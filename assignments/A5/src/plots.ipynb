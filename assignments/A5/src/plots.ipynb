{
 "cells": [
  {
   "cell_type": "code",
   "execution_count": 4,
   "metadata": {},
   "outputs": [],
   "source": [
    "import pandas as pd\n",
    "import matplotlib.pyplot as plt\n",
    "import sys\n",
    "import os\n",
    "sys.path.append(\"..\")"
   ]
  },
  {
   "cell_type": "code",
   "execution_count": 13,
   "metadata": {},
   "outputs": [],
   "source": [
    "# Read CSV files\n",
    "a1_df = pd.read_csv(os.path.join(\"..\",\"in\",\"A1_emissions.csv\"))\n",
    "a2_logreg_df = pd.read_csv(os.path.join(\"..\",\"in\",\"A2_logreg_emissions.csv\"))\n",
    "a2_mlp_df = pd.read_csv(os.path.join(\"..\",\"in\",\"A2_mlp_emissions.csv\"))\n",
    "a3_df = pd.read_csv(os.path.join(\"..\",\"in\",\"A3_emissions.csv\"))\n",
    "a4_df = pd.read_csv(os.path.join(\"..\",\"in\",\"A4_emissions.csv\"))"
   ]
  },
  {
   "cell_type": "code",
   "execution_count": 16,
   "metadata": {},
   "outputs": [],
   "source": [
    "total_emissions = {\n",
    "    \"Assignment 1\": a1_df[\"emissions\"].sum(),\n",
    "    \"Assignment 2 - logreg\": a2_logreg_df[\"emissions\"].sum(),\n",
    "    \"Assignment 2 - mlp\": a2_mlp_df[\"emissions\"].sum(),\n",
    "    \"Assignment 3\": a3_df[\"emissions\"].sum(),\n",
    "    \"Assignment 4\": a4_df[\"emissions\"].sum()\n",
    "}"
   ]
  },
  {
   "cell_type": "code",
   "execution_count": 19,
   "metadata": {},
   "outputs": [
    {
     "data": {
      "text/plain": [
       "'Assignment 4'"
      ]
     },
     "execution_count": 19,
     "metadata": {},
     "output_type": "execute_result"
    }
   ],
   "source": [
    "max(total_emissions, key=total_emissions.get)\n"
   ]
  }
 ],
 "metadata": {
  "kernelspec": {
   "display_name": "Python 3",
   "language": "python",
   "name": "python3"
  },
  "language_info": {
   "codemirror_mode": {
    "name": "ipython",
    "version": 3
   },
   "file_extension": ".py",
   "mimetype": "text/x-python",
   "name": "python",
   "nbconvert_exporter": "python",
   "pygments_lexer": "ipython3",
   "version": "3.10.12"
  }
 },
 "nbformat": 4,
 "nbformat_minor": 2
}
